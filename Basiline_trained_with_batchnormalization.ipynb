{
  "nbformat": 4,
  "nbformat_minor": 0,
  "metadata": {
    "colab": {
      "name": "Training with batchnormalization.ipynb",
      "provenance": [],
      "collapsed_sections": []
    },
    "kernelspec": {
      "name": "python3",
      "display_name": "Python 3"
    },
    "accelerator": "GPU"
  },
  "cells": [
    {
      "cell_type": "code",
      "metadata": {
        "id": "Vz2KANipnodB",
        "colab_type": "code",
        "colab": {}
      },
      "source": [
        "import tensorflow as tf\n",
        "import numpy as np\n",
        "import pandas as pd\n",
        "import random\n",
        "import glob\n",
        "import matplotlib.pyplot as plt\n",
        "import cv2\n",
        "# import tensorflow.contrib.slim as slim\n",
        "from sklearn.model_selection import train_test_split\n",
        "from collections import Counter\n",
        "%matplotlib inline"
      ],
      "execution_count": 0,
      "outputs": []
    },
    {
      "cell_type": "code",
      "metadata": {
        "id": "JJO-uWGin_wf",
        "colab_type": "code",
        "colab": {}
      },
      "source": [
        " #!wget ftp://lhcftp.nlm.nih.gov/Open-Access-Datasets/Malaria/cell_images.zip\n",
        " !unzip cell_images.zip"
      ],
      "execution_count": 0,
      "outputs": []
    },
    {
      "cell_type": "code",
      "metadata": {
        "id": "CG6fmlCRokjY",
        "colab_type": "code",
        "colab": {}
      },
      "source": [
        "parasitized_path = 'cell_images/Parasitized'\n",
        "uninfected_path = 'cell_images/Uninfected'"
      ],
      "execution_count": 0,
      "outputs": []
    },
    {
      "cell_type": "code",
      "metadata": {
        "id": "kXGM_iirokof",
        "colab_type": "code",
        "colab": {}
      },
      "source": [
        "parasitized_names = glob.glob(parasitized_path+\"/*.png\")\n",
        "uninfected_names = glob.glob(uninfected_path+\"/*.png\")"
      ],
      "execution_count": 0,
      "outputs": []
    },
    {
      "cell_type": "code",
      "metadata": {
        "id": "YGaxUMerokro",
        "colab_type": "code",
        "outputId": "08d878c1-35df-452c-b152-46ee4c7cc6cc",
        "colab": {
          "base_uri": "https://localhost:8080/",
          "height": 198
        }
      },
      "source": [
        "np.random.seed(42)\n",
        "data = pd.DataFrame({\n",
        "    'filename': parasitized_names + uninfected_names,\n",
        "    'label': ['malaria'] * len(parasitized_names) + ['healthy'] * len(uninfected_names)\n",
        "}).sample(frac=1, random_state=42).reset_index(drop=True)\n",
        "\n",
        "data.head()"
      ],
      "execution_count": 8,
      "outputs": [
        {
          "output_type": "execute_result",
          "data": {
            "text/html": [
              "<div>\n",
              "<style scoped>\n",
              "    .dataframe tbody tr th:only-of-type {\n",
              "        vertical-align: middle;\n",
              "    }\n",
              "\n",
              "    .dataframe tbody tr th {\n",
              "        vertical-align: top;\n",
              "    }\n",
              "\n",
              "    .dataframe thead th {\n",
              "        text-align: right;\n",
              "    }\n",
              "</style>\n",
              "<table border=\"1\" class=\"dataframe\">\n",
              "  <thead>\n",
              "    <tr style=\"text-align: right;\">\n",
              "      <th></th>\n",
              "      <th>filename</th>\n",
              "      <th>label</th>\n",
              "    </tr>\n",
              "  </thead>\n",
              "  <tbody>\n",
              "    <tr>\n",
              "      <th>0</th>\n",
              "      <td>cell_images/Parasitized/C101P62ThinF_IMG_20150...</td>\n",
              "      <td>malaria</td>\n",
              "    </tr>\n",
              "    <tr>\n",
              "      <th>1</th>\n",
              "      <td>cell_images/Parasitized/C129P90ThinF_IMG_20151...</td>\n",
              "      <td>malaria</td>\n",
              "    </tr>\n",
              "    <tr>\n",
              "      <th>2</th>\n",
              "      <td>cell_images/Uninfected/C101P62ThinF_IMG_201509...</td>\n",
              "      <td>healthy</td>\n",
              "    </tr>\n",
              "    <tr>\n",
              "      <th>3</th>\n",
              "      <td>cell_images/Uninfected/C234ThinF_IMG_20151112_...</td>\n",
              "      <td>healthy</td>\n",
              "    </tr>\n",
              "    <tr>\n",
              "      <th>4</th>\n",
              "      <td>cell_images/Uninfected/C166P127ThinF_IMG_20151...</td>\n",
              "      <td>healthy</td>\n",
              "    </tr>\n",
              "  </tbody>\n",
              "</table>\n",
              "</div>"
            ],
            "text/plain": [
              "                                            filename    label\n",
              "0  cell_images/Parasitized/C101P62ThinF_IMG_20150...  malaria\n",
              "1  cell_images/Parasitized/C129P90ThinF_IMG_20151...  malaria\n",
              "2  cell_images/Uninfected/C101P62ThinF_IMG_201509...  healthy\n",
              "3  cell_images/Uninfected/C234ThinF_IMG_20151112_...  healthy\n",
              "4  cell_images/Uninfected/C166P127ThinF_IMG_20151...  healthy"
            ]
          },
          "metadata": {
            "tags": []
          },
          "execution_count": 8
        }
      ]
    },
    {
      "cell_type": "code",
      "metadata": {
        "id": "UggW8sg6okuu",
        "colab_type": "code",
        "outputId": "0b8a5d24-0b48-4085-b37e-530701c7deff",
        "colab": {
          "base_uri": "https://localhost:8080/",
          "height": 72
        }
      },
      "source": [
        "from sklearn.model_selection import train_test_split\n",
        "from collections import Counter\n",
        "\n",
        "train_files, test_files, train_labels, test_labels = train_test_split(data['filename'].values,\n",
        "                                                                      data['label'].values, \n",
        "                                                                      test_size=0.3, random_state=42)\n",
        "\n",
        "print(train_files.shape, test_files.shape)\n",
        "print('Train:', Counter(train_labels),'\\nTest:', Counter(test_labels))"
      ],
      "execution_count": 9,
      "outputs": [
        {
          "output_type": "stream",
          "text": [
            "(19290,) (8268,)\n",
            "Train: Counter({'healthy': 9704, 'malaria': 9586}) \n",
            "Test: Counter({'malaria': 4193, 'healthy': 4075})\n"
          ],
          "name": "stdout"
        }
      ]
    },
    {
      "cell_type": "code",
      "metadata": {
        "id": "iTLEMKHq2ZQO",
        "colab_type": "code",
        "colab": {}
      },
      "source": [
        ""
      ],
      "execution_count": 0,
      "outputs": []
    },
    {
      "cell_type": "code",
      "metadata": {
        "colab_type": "code",
        "id": "0uXMxGFV-K57",
        "outputId": "6276fa84-18b1-4417-db6c-545647d50f03",
        "colab": {
          "base_uri": "https://localhost:8080/",
          "height": 54
        }
      },
      "source": [
        "# encode text category labels\n",
        "from sklearn.preprocessing import LabelEncoder\n",
        "\n",
        "le = LabelEncoder()\n",
        "le.fit(train_labels)\n",
        "train_labels_enc = le.transform(train_labels)\n",
        "val_labels_enc = le.transform(test_labels)\n",
        "\n",
        "print(train_labels[:10], train_labels_enc[:10])"
      ],
      "execution_count": 10,
      "outputs": [
        {
          "output_type": "stream",
          "text": [
            "['malaria' 'malaria' 'healthy' 'malaria' 'malaria' 'healthy' 'healthy'\n",
            " 'malaria' 'malaria' 'malaria'] [1 1 0 1 1 0 0 1 1 1]\n"
          ],
          "name": "stdout"
        }
      ]
    },
    {
      "cell_type": "code",
      "metadata": {
        "id": "wv-_J_Ld2ZT6",
        "colab_type": "code",
        "colab": {
          "base_uri": "https://localhost:8080/",
          "height": 35
        },
        "outputId": "6db95982-35e6-4b26-fa4a-6db7d14cea54"
      },
      "source": [
        "IMG_DIMS = (125, 125)\n",
        "\n",
        "def load_resize_img(img):\n",
        "    img = cv2.imread(img)\n",
        "    img = cv2.resize(img, dsize=IMG_DIMS, \n",
        "                     interpolation=cv2.INTER_CUBIC)\n",
        "    img = np.array(img, dtype=np.float32)\n",
        "    return img\n",
        "\n",
        "train_data = [load_resize_img(img) for img in train_files]\n",
        "test_data  = [load_resize_img(img) for img in test_files]\n",
        "\n",
        "train_data = np.array(train_data)\n",
        "test_data  = np.array(test_data)\n",
        "\n",
        "train_data.shape, test_data.shape  "
      ],
      "execution_count": 11,
      "outputs": [
        {
          "output_type": "execute_result",
          "data": {
            "text/plain": [
              "((19290, 125, 125, 3), (8268, 125, 125, 3))"
            ]
          },
          "metadata": {
            "tags": []
          },
          "execution_count": 11
        }
      ]
    },
    {
      "cell_type": "code",
      "metadata": {
        "id": "zX2wII1C5tFa",
        "colab_type": "code",
        "colab": {}
      },
      "source": [
        "BATCH_SIZE = 64\n",
        "NUM_CLASSES = 2\n",
        "EPOCHS = 25\n",
        "INPUT_SHAPE =(125, 125,1)"
      ],
      "execution_count": 0,
      "outputs": []
    },
    {
      "cell_type": "code",
      "metadata": {
        "id": "aZXgc5BP5tMw",
        "colab_type": "code",
        "colab": {
          "base_uri": "https://localhost:8080/",
          "height": 35
        },
        "outputId": "6d2b0ad6-58b0-49c1-f34f-509a00be7994"
      },
      "source": [
        "from keras.preprocessing.image import ImageDataGenerator"
      ],
      "execution_count": 14,
      "outputs": [
        {
          "output_type": "stream",
          "text": [
            "Using TensorFlow backend.\n"
          ],
          "name": "stderr"
        }
      ]
    },
    {
      "cell_type": "code",
      "metadata": {
        "id": "dmEpbof52ZWx",
        "colab_type": "code",
        "colab": {}
      },
      "source": [
        "## Generic Image Data Generator \n",
        "train_generator=ImageDataGenerator(rotation_range=20,width_shift_range=0.25,height_shift_range=0.25,shear_range=0.2,zoom_range=0.3,horizontal_flip=True,vertical_flip=True,rescale=1/255.)\n",
        "test_generator=ImageDataGenerator(rescale=1/255.)\n",
        "\n",
        "# Applying generators to training and testing images with additional parameters\n",
        "train_gen=train_generator.flow(train_data ,train_labels_enc,batch_size=32,shuffle=False)\n",
        "test_gen=test_generator.flow(test_data ,val_labels_enc,batch_size=1,shuffle=False)"
      ],
      "execution_count": 0,
      "outputs": []
    },
    {
      "cell_type": "code",
      "metadata": {
        "id": "J5BaFXNE2ZZ4",
        "colab_type": "code",
        "colab": {
          "base_uri": "https://localhost:8080/",
          "height": 708
        },
        "outputId": "412d440b-c2d3-430a-bcf9-6ff792f7bf0a"
      },
      "source": [
        "inp = tf.keras.layers.Input(shape=INPUT_SHAPE)\n",
        "\n",
        "conv1 = tf.keras.layers.Conv2D(32, kernel_size=(3, 3), \n",
        "                               activation='relu', padding='same')(inp)\n",
        "pool1 = tf.keras.layers.MaxPooling2D(pool_size=(2, 2))(conv1)\n",
        "batch1= tf.keras.layers.BatchNormalization()(pool1)\n",
        "conv2 = tf.keras.layers.Conv2D(64, kernel_size=(3, 3), \n",
        "                               activation='relu', padding='same')(batch1)\n",
        "pool2 = tf.keras.layers.MaxPooling2D(pool_size=(2, 2))(conv2)\n",
        "batch2= tf.keras.layers.BatchNormalization()(pool2)\n",
        "conv3 = tf.keras.layers.Conv2D(128, kernel_size=(3, 3), \n",
        "                               activation='relu', padding='same')(batch2)\n",
        "pool3 = tf.keras.layers.MaxPooling2D(pool_size=(2, 2))(conv3)\n",
        "batch3= tf.keras.layers.BatchNormalization()(pool3)\n",
        "flat = tf.keras.layers.Flatten()(batch3)\n",
        "\n",
        "hidden1 = tf.keras.layers.Dense(512, activation='relu')(flat)\n",
        "batch4= tf.keras.layers.BatchNormalization()(hidden1)\n",
        "drop1 = tf.keras.layers.Dropout(rate=0.3)(batch4)\n",
        "out = tf.keras.layers.Dense(1, activation='sigmoid')(drop1)\n",
        "\n",
        "model = tf.keras.Model(inputs=inp, outputs=out)\n",
        "model.compile(optimizer='adam',\n",
        "                loss='binary_crossentropy',\n",
        "                metrics=['accuracy'])\n",
        "model.summary()"
      ],
      "execution_count": 19,
      "outputs": [
        {
          "output_type": "stream",
          "text": [
            "Model: \"model\"\n",
            "_________________________________________________________________\n",
            "Layer (type)                 Output Shape              Param #   \n",
            "=================================================================\n",
            "input_2 (InputLayer)         [(None, 125, 125, 3)]     0         \n",
            "_________________________________________________________________\n",
            "conv2d_3 (Conv2D)            (None, 125, 125, 32)      896       \n",
            "_________________________________________________________________\n",
            "max_pooling2d_3 (MaxPooling2 (None, 62, 62, 32)        0         \n",
            "_________________________________________________________________\n",
            "batch_normalization_4 (Batch (None, 62, 62, 32)        128       \n",
            "_________________________________________________________________\n",
            "conv2d_4 (Conv2D)            (None, 62, 62, 64)        18496     \n",
            "_________________________________________________________________\n",
            "max_pooling2d_4 (MaxPooling2 (None, 31, 31, 64)        0         \n",
            "_________________________________________________________________\n",
            "batch_normalization_5 (Batch (None, 31, 31, 64)        256       \n",
            "_________________________________________________________________\n",
            "conv2d_5 (Conv2D)            (None, 31, 31, 128)       73856     \n",
            "_________________________________________________________________\n",
            "max_pooling2d_5 (MaxPooling2 (None, 15, 15, 128)       0         \n",
            "_________________________________________________________________\n",
            "batch_normalization_6 (Batch (None, 15, 15, 128)       512       \n",
            "_________________________________________________________________\n",
            "flatten_1 (Flatten)          (None, 28800)             0         \n",
            "_________________________________________________________________\n",
            "dense_2 (Dense)              (None, 512)               14746112  \n",
            "_________________________________________________________________\n",
            "batch_normalization_7 (Batch (None, 512)               2048      \n",
            "_________________________________________________________________\n",
            "dropout_1 (Dropout)          (None, 512)               0         \n",
            "_________________________________________________________________\n",
            "dense_3 (Dense)              (None, 1)                 513       \n",
            "=================================================================\n",
            "Total params: 14,842,817\n",
            "Trainable params: 14,841,345\n",
            "Non-trainable params: 1,472\n",
            "_________________________________________________________________\n"
          ],
          "name": "stdout"
        }
      ]
    },
    {
      "cell_type": "code",
      "metadata": {
        "id": "AEAzLBZT2Zcy",
        "colab_type": "code",
        "colab": {
          "base_uri": "https://localhost:8080/",
          "height": 1000
        },
        "outputId": "876f183f-01ac-408d-8981-45890b4134ec"
      },
      "source": [
        "import datetime\n",
        "\n",
        "log_dir = \"logs/fit/\" + datetime.datetime.now().strftime(\"%Y%m%d-%H%M%S\")\n",
        "tensorboard_callback = tf.keras.callbacks.TensorBoard(log_dir=log_dir, histogram_freq=1)\n",
        "reduce_lr = tf.keras.callbacks.ReduceLROnPlateau(monitor='val_loss', factor=0.5,\n",
        "                              patience=2, min_lr=0.000001)\n",
        "callbacks = [reduce_lr, tensorboard_callback]\n",
        "train_steps_per_epoch = train_gen.n // train_gen.batch_size\n",
        "val_steps_per_epoch = test_gen.n // test_gen.batch_size\n",
        "results_ft = model.fit_generator(train_gen, steps_per_epoch=train_steps_per_epoch, epochs=EPOCHS,\n",
        "                              validation_data=test_gen, validation_steps=val_steps_per_epoch, \n",
        "                              verbose=1)"
      ],
      "execution_count": 23,
      "outputs": [
        {
          "output_type": "stream",
          "text": [
            "WARNING:tensorflow:From <ipython-input-23-6046216e034c>:12: Model.fit_generator (from tensorflow.python.keras.engine.training) is deprecated and will be removed in a future version.\n",
            "Instructions for updating:\n",
            "Please use Model.fit, which supports generators.\n",
            "Epoch 1/25\n",
            "602/602 [==============================] - 85s 141ms/step - loss: 0.5690 - accuracy: 0.7403 - val_loss: 0.5284 - val_accuracy: 0.7531\n",
            "Epoch 2/25\n",
            "602/602 [==============================] - 85s 141ms/step - loss: 0.3155 - accuracy: 0.8796 - val_loss: 0.1773 - val_accuracy: 0.9373\n",
            "Epoch 3/25\n",
            "602/602 [==============================] - 85s 142ms/step - loss: 0.2795 - accuracy: 0.8967 - val_loss: 0.1574 - val_accuracy: 0.9465\n",
            "Epoch 4/25\n",
            "602/602 [==============================] - 85s 142ms/step - loss: 0.2616 - accuracy: 0.9054 - val_loss: 0.2301 - val_accuracy: 0.9231\n",
            "Epoch 5/25\n",
            "602/602 [==============================] - 86s 143ms/step - loss: 0.2557 - accuracy: 0.9073 - val_loss: 0.1627 - val_accuracy: 0.9411\n",
            "Epoch 6/25\n",
            "602/602 [==============================] - 86s 143ms/step - loss: 0.2395 - accuracy: 0.9140 - val_loss: 0.1688 - val_accuracy: 0.9383\n",
            "Epoch 7/25\n",
            "602/602 [==============================] - 85s 142ms/step - loss: 0.2387 - accuracy: 0.9140 - val_loss: 0.1457 - val_accuracy: 0.9500\n",
            "Epoch 8/25\n",
            "602/602 [==============================] - 85s 141ms/step - loss: 0.2275 - accuracy: 0.9188 - val_loss: 0.2396 - val_accuracy: 0.9485\n",
            "Epoch 9/25\n",
            "602/602 [==============================] - 85s 142ms/step - loss: 0.2281 - accuracy: 0.9179 - val_loss: 0.1405 - val_accuracy: 0.9514\n",
            "Epoch 10/25\n",
            "602/602 [==============================] - 85s 142ms/step - loss: 0.2211 - accuracy: 0.9222 - val_loss: 0.1246 - val_accuracy: 0.9592\n",
            "Epoch 11/25\n",
            "602/602 [==============================] - 86s 142ms/step - loss: 0.2195 - accuracy: 0.9223 - val_loss: 0.1323 - val_accuracy: 0.9536\n",
            "Epoch 12/25\n",
            "602/602 [==============================] - 86s 143ms/step - loss: 0.2161 - accuracy: 0.9232 - val_loss: 0.1392 - val_accuracy: 0.9510\n",
            "Epoch 13/25\n",
            "602/602 [==============================] - 86s 143ms/step - loss: 0.2125 - accuracy: 0.9249 - val_loss: 0.1465 - val_accuracy: 0.9515\n",
            "Epoch 14/25\n",
            "602/602 [==============================] - 86s 143ms/step - loss: 0.2146 - accuracy: 0.9224 - val_loss: 0.1384 - val_accuracy: 0.9509\n",
            "Epoch 15/25\n",
            "602/602 [==============================] - 85s 142ms/step - loss: 0.2044 - accuracy: 0.9255 - val_loss: 0.1229 - val_accuracy: 0.9566\n",
            "Epoch 16/25\n",
            "602/602 [==============================] - 85s 142ms/step - loss: 0.2030 - accuracy: 0.9261 - val_loss: 0.1377 - val_accuracy: 0.9584\n",
            "Epoch 17/25\n",
            "602/602 [==============================] - 86s 143ms/step - loss: 0.2076 - accuracy: 0.9255 - val_loss: 0.1257 - val_accuracy: 0.9555\n",
            "Epoch 18/25\n",
            "602/602 [==============================] - 86s 142ms/step - loss: 0.2004 - accuracy: 0.9267 - val_loss: 0.1370 - val_accuracy: 0.9538\n",
            "Epoch 19/25\n",
            "602/602 [==============================] - 86s 142ms/step - loss: 0.2064 - accuracy: 0.9249 - val_loss: 0.1247 - val_accuracy: 0.9568\n",
            "Epoch 20/25\n",
            "602/602 [==============================] - 85s 142ms/step - loss: 0.2053 - accuracy: 0.9278 - val_loss: 0.2994 - val_accuracy: 0.9063\n",
            "Epoch 21/25\n",
            "602/602 [==============================] - 86s 143ms/step - loss: 0.2061 - accuracy: 0.9250 - val_loss: 0.1293 - val_accuracy: 0.9546\n",
            "Epoch 22/25\n",
            "602/602 [==============================] - 86s 142ms/step - loss: 0.1978 - accuracy: 0.9281 - val_loss: 0.1342 - val_accuracy: 0.9537\n",
            "Epoch 23/25\n",
            "602/602 [==============================] - 86s 143ms/step - loss: 0.1957 - accuracy: 0.9307 - val_loss: 0.1579 - val_accuracy: 0.9473\n",
            "Epoch 24/25\n",
            "602/602 [==============================] - 87s 145ms/step - loss: 0.1971 - accuracy: 0.9271 - val_loss: 0.1559 - val_accuracy: 0.9516\n",
            "Epoch 25/25\n",
            "602/602 [==============================] - 87s 144ms/step - loss: 0.2069 - accuracy: 0.9254 - val_loss: 0.1502 - val_accuracy: 0.9457\n"
          ],
          "name": "stdout"
        }
      ]
    },
    {
      "cell_type": "code",
      "metadata": {
        "id": "km6Gi6wh2ZiP",
        "colab_type": "code",
        "colab": {
          "base_uri": "https://localhost:8080/",
          "height": 308
        },
        "outputId": "51069a15-3d8a-46da-9fc6-0a0acebe4cb7"
      },
      "source": [
        "f, (ax1, ax2) = plt.subplots(1, 2, figsize=(12, 4))\n",
        "t = f.suptitle('Improved model Performance', fontsize=12)\n",
        "f.subplots_adjust(top=0.85, wspace=0.3)\n",
        "\n",
        "max_epoch = len(results_ft.history['accuracy'])+1\n",
        "epoch_list = list(range(1,max_epoch))\n",
        "ax1.plot(epoch_list, results_ft.history['accuracy'], label='Train Accuracy')\n",
        "ax1.plot(epoch_list, results_ft.history['val_accuracy'], label='Validation Accuracy')\n",
        "ax1.set_xticks(np.arange(1, max_epoch, 5))\n",
        "ax1.set_ylabel('Accuracy Value')\n",
        "ax1.set_xlabel('Epoch')\n",
        "ax1.set_title('Accuracy')\n",
        "l1 = ax1.legend(loc=\"best\")\n",
        "\n",
        "ax2.plot(epoch_list, results_ft.history['loss'], label='Train Loss')\n",
        "ax2.plot(epoch_list, results_ft.history['val_loss'], label='Validation Loss')\n",
        "ax2.set_xticks(np.arange(1, max_epoch, 5))\n",
        "ax2.set_ylabel('Loss Value')\n",
        "ax2.set_xlabel('Epoch')\n",
        "ax2.set_title('Loss')\n",
        "l2 = ax2.legend(loc=\"best\")"
      ],
      "execution_count": 26,
      "outputs": [
        {
          "output_type": "display_data",
          "data": {
            "image/png": "[encoded data removed]",
            "text/plain": [
              "<Figure size 864x288 with 2 Axes>"
            ]
          },
          "metadata": {
            "tags": [],
            "needs_background": "light"
          }
        }
      ]
    },
    {
      "cell_type": "code",
      "metadata": {
        "id": "G1BiIG632Zl3",
        "colab_type": "code",
        "colab": {}
      },
      "source": [
        ""
      ],
      "execution_count": 0,
      "outputs": []
    }
  ]
}